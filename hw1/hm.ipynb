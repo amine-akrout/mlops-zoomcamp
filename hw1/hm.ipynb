{
 "cells": [
  {
   "cell_type": "code",
   "execution_count": null,
   "metadata": {},
   "outputs": [],
   "source": [
    "# import libraries\n",
    "import pandas as pd\n",
    "from sklearn.feature_extraction import DictVectorizer\n",
    "from sklearn.linear_model import LinearRegression\n",
    "from sklearn.metrics import mean_squared_error"
   ]
  },
  {
   "cell_type": "code",
   "execution_count": null,
   "metadata": {},
   "outputs": [],
   "source": [
    "# read both parquet files in the dir data/\n",
    "df_jan = pd.read_parquet(\"./data/yellow_tripdata_2022-01.parquet\")\n",
    "df_feb = pd.read_parquet(\"./data/yellow_tripdata_2022-02.parquet\")\n",
    "dfs = [df_jan, df_feb]\n",
    "\n",
    "# concatenate the two dataframes\n",
    "df = pd.concat(dfs, ignore_index=True)\n",
    "\n",
    "# How many columns are there?\n",
    "print(\"Number of columns:\", len(df.columns))"
   ]
  },
  {
   "cell_type": "code",
   "execution_count": null,
   "metadata": {},
   "outputs": [],
   "source": [
    "# What's the standard deviation of the trips duration in January?\n",
    "def add_duration(df):\n",
    "    df['duration'] = df.tpep_dropoff_datetime - df.tpep_pickup_datetime\n",
    "    df.duration = df.duration.apply(lambda td: td.total_seconds() / 60)\n",
    "    return df\n",
    "\n",
    "df_jan = add_duration(df_jan)\n",
    "print(\"Standard deviation of the trips duration in January:\", df_jan[\"duration\"].std())\n"
   ]
  },
  {
   "cell_type": "code",
   "execution_count": null,
   "metadata": {},
   "outputs": [],
   "source": [
    "def filter_duration(df):\n",
    "    # keep only the records where the duration was between 1 and 60 minutes (inclusive).\n",
    "    return df[(df[\"duration\"]>=1) & (df[\"duration\"]<=60)]\n",
    "\n",
    "filtered_jan_df = filter_duration(df_jan)\n",
    "\n",
    "# What fraction of the records left after you dropped the outliers?\n",
    "print(\"Fraction of the records left after you dropped the outliers:\", round(len(filtered_jan_df)/len(df_jan) * 100, 2), \"%\")\n"
   ]
  },
  {
   "cell_type": "code",
   "execution_count": null,
   "metadata": {},
   "outputs": [],
   "source": [
    "# Create a new dataframe with only the pickup and dropoff location IDs\n",
    "train_df = filtered_jan_df[[\"PULocationID\", \"DOLocationID\"]]\n",
    "\n",
    "# cast the columns to string\n",
    "train_df = train_df.astype(str)\n",
    "# Convert the dataframe to a list of dictionaries.\n",
    "train_df = train_df.to_dict(orient=\"records\")\n",
    "# Apply one-hot encoding to the list of dictionaries.\n",
    "vec = DictVectorizer(sparse=False)\n",
    "train_df = vec.fit_transform(train_df)\n",
    "\n",
    "# How many columns are there now?\n",
    "print(\"Number of columns after one-hot encoding:\", len(train_df[0]))"
   ]
  },
  {
   "cell_type": "code",
   "execution_count": null,
   "metadata": {},
   "outputs": [],
   "source": [
    "# Create a new dataframe with the one-hot encoded columns.\n",
    "train_df = pd.DataFrame(train_df, columns=vec.feature_names_)\n",
    "\n",
    "# train a plain linear regression model with default parameters\n",
    "model = LinearRegression()\n",
    "model.fit(train_df, filtered_jan_df[\"duration\"].values)\n",
    "\n",
    "# What's the RMSE of the model on the training data?\n",
    "y_pred = model.predict(train_df)\n",
    "rmse = ((y_pred - filtered_jan_df[\"duration\"].values) ** 2).mean() ** .5\n",
    "\n",
    "print(\"RMSE of the model on the training data:\", rmse)"
   ]
  },
  {
   "cell_type": "code",
   "execution_count": null,
   "metadata": {},
   "outputs": [],
   "source": [
    "# Evaluating the model\n",
    "# Now let's apply this model to the validation dataset df_feb.\n",
    "# Create a new dataframe with the one-hot encoded columns.\n",
    "df_feb = add_duration(df_feb)\n",
    "filtered_df_feb = filter_duration(df_feb)\n",
    "test_df = filtered_df_feb[[\"PULocationID\", \"DOLocationID\"]]\n",
    "test_df = test_df.astype(str)\n",
    "test_df = test_df.to_dict(orient=\"records\")\n",
    "test_df = vec.transform(test_df)\n",
    "test_df = pd.DataFrame(test_df, columns=vec.feature_names_)\n",
    "# What's the RMSE of the model on the validation data?\n",
    "y_pred = model.predict(test_df)\n",
    "\n",
    "rmse = ((y_pred - filtered_df_feb[\"duration\"]) ** 2).mean() ** .5\n",
    "print(\"RMSE of the model on the validation data:\", rmse)"
   ]
  },
  {
   "cell_type": "code",
   "execution_count": null,
   "metadata": {},
   "outputs": [],
   "source": []
  }
 ],
 "metadata": {
  "language_info": {
   "name": "python"
  },
  "orig_nbformat": 4
 },
 "nbformat": 4,
 "nbformat_minor": 2
}
